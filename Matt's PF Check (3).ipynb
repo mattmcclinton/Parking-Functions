{
 "cells": [
  {
   "cell_type": "markdown",
   "metadata": {},
   "source": [
    "# Matt McClinton's Parking Function Verifier\n",
    "This code takes in a tuple, runs the parking function algorithm, and confirms if the tuple is indeed a parking function\n",
    "\n",
    "\n",
    "__Definitions__\n",
    "\n",
    "__i__ = the $i^{th}$ parking spot\n",
    "\n",
    "__ci__ = car $i$\n",
    "\n",
    "__ai__ = desired parking spot for __ci__"
   ]
  },
  {
   "cell_type": "code",
   "execution_count": 1,
   "metadata": {},
   "outputs": [],
   "source": [
    "def nrow(n): # this makes a row of n zeros [0, 0, ..., 0]\n",
    "    row = []\n",
    "    for i in range(n):\n",
    "        row.append(0)\n",
    "    return row"
   ]
  },
  {
   "cell_type": "markdown",
   "metadata": {},
   "source": [
    "For simplicity we will refer to the tuple by PF"
   ]
  },
  {
   "cell_type": "code",
   "execution_count": 4,
   "metadata": {},
   "outputs": [],
   "source": [
    "def PFconfirm(PF): # this will test if list PF is indeed a parking function.\n",
    "    n = len(PF)\n",
    "    ParkingLot = nrow(n) # this will keep track of the parking spots that get filled.\n",
    "    for ci in PF:\n",
    "        for ai in range(len(ParkingLot)):\n",
    "            if ci == ai + 1 and ParkingLot[ai] == 0:    # if preferred spot AVAILABLE, park here.\n",
    "                ParkingLot[ai] += ci\n",
    "                break\n",
    "            elif ci < ai + 1 and ParkingLot[ai] == 0:   # else if preferred spot UNAVAILABLE, go to next available spot.\n",
    "                ParkingLot[ai] += ci\n",
    "                break\n",
    "            elif ai + 1 == n and ParkingLot[ai] != 0:   # if last spot unavailable, leave the parking lot.\n",
    "                return('Not a parking function!')\n",
    "    return \"It's a parking function!\",ParkingLot;"
   ]
  },
  {
   "cell_type": "code",
   "execution_count": null,
   "metadata": {},
   "outputs": [],
   "source": []
  }
 ],
 "metadata": {
  "kernelspec": {
   "display_name": "Python 3",
   "language": "python",
   "name": "python3"
  },
  "language_info": {
   "codemirror_mode": {
    "name": "ipython",
    "version": 3
   },
   "file_extension": ".py",
   "mimetype": "text/x-python",
   "name": "python",
   "nbconvert_exporter": "python",
   "pygments_lexer": "ipython3",
   "version": "3.8.5"
  }
 },
 "nbformat": 4,
 "nbformat_minor": 4
}
